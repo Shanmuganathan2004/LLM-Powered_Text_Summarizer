{
 "cells": [
  {
   "cell_type": "code",
   "execution_count": null,
   "metadata": {},
   "outputs": [],
   "source": [
    "from fastapi import FastAPI\n",
    "import requests\n",
    "\n",
    "app = FastAPI()\n",
    "OLLAMA_URL = \"http://localhost:11434/api/generate\"\n",
    "\n",
    "@app.post(\"/summarize/\")\n",
    "def summarize_text(text: str):\n",
    "    payload = {\"model\": \"deepseek-r1:8b\", \"prompt\": f\"Summarize:\\n\\n{text}\", \"stream\": False}\n",
    "    response = requests.post(OLLAMA_URL, json=payload)\n",
    "    return response.json().get(\"response\", \"No summary generated.\")\n",
    "\n",
    "# Run with: uvicorn app:app --reload in cmd prompt of the given folder"
   ]
  }
 ],
 "metadata": {
  "kernelspec": {
   "display_name": "base",
   "language": "python",
   "name": "python3"
  },
  "language_info": {
   "codemirror_mode": {
    "name": "ipython",
    "version": 3
   },
   "file_extension": ".py",
   "mimetype": "text/x-python",
   "name": "python",
   "nbconvert_exporter": "python",
   "pygments_lexer": "ipython3",
   "version": "3.12.4"
  }
 },
 "nbformat": 4,
 "nbformat_minor": 2
}
